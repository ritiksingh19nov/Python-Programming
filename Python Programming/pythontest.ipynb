{
 "cells": [
  {
   "cell_type": "code",
   "execution_count": 5,
   "id": "297cac89-07cc-4767-9f67-1051b9a5cf1f",
   "metadata": {},
   "outputs": [
    {
     "name": "stdout",
     "output_type": "stream",
     "text": [
      "Sub_string = C D C Result = 2\n"
     ]
    }
   ],
   "source": [
    "def count_sub_string(main_string, sub_string):\n",
    "    count = 0\n",
    "    sub_len = len(sub_string)\n",
    "\n",
    "\n",
    "    for i in range(len(main_string) - sub_len + 1):\n",
    "        if main_string[i:i + sub_len] == sub_string:\n",
    "            count += 1\n",
    "\n",
    "    return count\n",
    "\n",
    "\n",
    "main_string = \"A B C D C D C\"\n",
    "sub_string = \"C D C\"\n",
    "result = count_sub_string(main_string.split(), sub_string.split())\n",
    "\n",
    "print(\"Sub_string =\", sub_string, \"Result =\", result)"
   ]
  },
  {
   "cell_type": "code",
   "execution_count": 7,
   "id": "7e6e7189-da71-46f2-807a-f5a5bdf2eb82",
   "metadata": {},
   "outputs": [
    {
     "name": "stdout",
     "output_type": "stream",
     "text": [
      "List with factorials: [2, 24, 720, 40320]\n"
     ]
    }
   ],
   "source": [
    "import math\n",
    "numbers = [2, 4, 6, 8]\n",
    "for i in range(len(numbers)):\n",
    "    numbers[i] = math.factorial(numbers[i])\n",
    "print(\"List with factorials:\", numbers)\n"
   ]
  },
  {
   "cell_type": "code",
   "execution_count": null,
   "id": "0b144288-b62a-4fea-ad4e-fc9f5f59ebc8",
   "metadata": {},
   "outputs": [
    {
     "name": "stdout",
     "output_type": "stream",
     "text": [
      "Generated password: .,,*6D0ED*@8\n"
     ]
    },
    {
     "name": "stdin",
     "output_type": "stream",
     "text": [
      "Do you like this password? (yes/no):  no\n"
     ]
    },
    {
     "name": "stdout",
     "output_type": "stream",
     "text": [
      "Generating a new password...\n",
      "Generated password: Y!xd1M#9T@g/\n"
     ]
    }
   ],
   "source": [
    "import random\n",
    "import string\n",
    "\n",
    "def generate_password(length=12):\n",
    "   \n",
    "    characters = string.ascii_letters + string.digits + string.punctuation\n",
    "  \n",
    "    password = ''.join(random.choice(characters) for _ in range(length))\n",
    "    return password\n",
    "\n",
    "\n",
    "def ask_user_for_password():\n",
    "    while True:\n",
    "       \n",
    "        new_password = generate_password()\n",
    "        print(f\"Generated password: {new_password}\")\n",
    "        \n",
    "        \n",
    "        user_response = input(\"Do you like this password? (yes/no): \").strip().lower()\n",
    "        \n",
    "        if user_response == \"yes\":\n",
    "            print(\"Great! Your password is set.\")\n",
    "            break\n",
    "        elif user_response == \"no\":\n",
    "            print(\"Generating a new password...\")\n",
    "        else:\n",
    "            print(\"Please respond with 'yes' or 'no'.\")\n",
    "\n",
    "\n",
    "ask_user_for_password()"
   ]
  },
  {
   "cell_type": "code",
   "execution_count": 11,
   "id": "960683ec-3670-4b24-9d77-0eee4409743b",
   "metadata": {},
   "outputs": [
    {
     "name": "stdout",
     "output_type": "stream",
     "text": [
      "Input String: Hello Ritik\n",
      "Number of vowels: 4\n",
      "Vowels in the string: e, o, i, i\n"
     ]
    }
   ],
   "source": [
    "def count_vowels(input_string):\n",
    "    vowels = \"aeiouAEIOU\"\n",
    "    vowel_count = 0\n",
    "    vowels_in_string = []\n",
    "\n",
    "    \n",
    "    for char in input_string:\n",
    "        if char in vowels:\n",
    "            vowel_count += 1\n",
    "            vowels_in_string.append(char)\n",
    "\n",
    "    return vowel_count, vowels_in_string\n",
    "\n",
    "input_string = \"Hello Ritik\"\n",
    "vowel_count, vowels_in_string = count_vowels(input_string)\n",
    "\n",
    "print(f\"Input String: {input_string}\")\n",
    "print(f\"Number of vowels: {vowel_count}\")\n",
    "print(f\"Vowels in the string: {', '.join(vowels_in_string)}\")"
   ]
  },
  {
   "cell_type": "code",
   "execution_count": 3,
   "id": "3ebb8a0d-bdd8-4b39-97c3-15003adf3e10",
   "metadata": {},
   "outputs": [
    {
     "name": "stdout",
     "output_type": "stream",
     "text": [
      "Accessing elements in forward order:\n",
      "P\n",
      "y\n",
      "t\n",
      "h\n",
      "o\n",
      "n\n",
      "\n",
      "Accessing elements in reverse order:\n",
      "n\n",
      "o\n",
      "h\n",
      "t\n",
      "y\n",
      "P\n"
     ]
    }
   ],
   "source": [
    "def forward_reverse_access(input_string):\n",
    "    length = len(input_string)\n",
    "    index = 0\n",
    "\n",
    "    print(\"Accessing elements in forward order:\")\n",
    "    while index < length:\n",
    "        print(input_string[index])\n",
    "        index += 1\n",
    "\n",
    "    print(\"\\nAccessing elements in reverse order:\")\n",
    "    index = length - 1\n",
    "    while index >= 0:\n",
    "        print(input_string[index])\n",
    "        index -= 1\n",
    "\n",
    "# Example usage:\n",
    "input_string = \"Python\"\n",
    "forward_reverse_access(input_string)"
   ]
  },
  {
   "cell_type": "code",
   "execution_count": 5,
   "id": "bc4c3bf5-d997-43c0-b7ce-23465b67c654",
   "metadata": {},
   "outputs": [
    {
     "name": "stdout",
     "output_type": "stream",
     "text": [
      "The substring 'Python' exists in the main string.\n"
     ]
    }
   ],
   "source": [
    "def is_substring(main_string, sub_string):\n",
    "    if sub_string in main_string:\n",
    "        return True\n",
    "    else:\n",
    "        return False\n",
    "\n",
    "\n",
    "main_string = \"Hello, welcome to the world of Python!\"\n",
    "sub_string = \"Python\"\n",
    "\n",
    "if is_substring(main_string, sub_string):\n",
    "    print(f\"The substring '{sub_string}' exists in the main string.\")\n",
    "else:\n",
    "    print(f\"The substring '{sub_string}' does not exist in the main string.\")"
   ]
  },
  {
   "cell_type": "code",
   "execution_count": 7,
   "id": "570f75c4-c1a9-48bd-b919-5bf373eebdf6",
   "metadata": {},
   "outputs": [
    {
     "name": "stdout",
     "output_type": "stream",
     "text": [
      "The first occurrence of the substring 'Python' is at index 31.\n"
     ]
    }
   ],
   "source": [
    "\n",
    "def find_first_occurrence(main_string, sub_string):\n",
    "    \n",
    "    index = main_string.find(sub_string)\n",
    "    return index\n",
    "\n",
    "\n",
    "main_string = \"Hello, welcome to the world of Python! Python is fun.\"\n",
    "sub_string = \"Python\"\n",
    "\n",
    "\n",
    "index = find_first_occurrence(main_string, sub_string)\n",
    "\n",
    "if index != -1:\n",
    "    print(f\"The first occurrence of the substring '{sub_string}' is at index {index}.\")\n",
    "else:\n",
    "    print(f\"The substring '{sub_string}' is not found in the main string.\")"
   ]
  },
  {
   "cell_type": "code",
   "execution_count": 13,
   "id": "20a655bd-80b1-4aaa-bb13-ed29b086868d",
   "metadata": {},
   "outputs": [
    {
     "name": "stdout",
     "output_type": "stream",
     "text": [
      "Result: It is hot summer\n"
     ]
    }
   ],
   "source": [
    "\n",
    "def insert_substring(main_string, sub_string, position):\n",
    "    new_string = main_string[:position] + sub_string + main_string[position:]\n",
    "    return new_string\n",
    "main_string = \"It is  summer\"\n",
    "sub_string = \"hot\"\n",
    "position = 6\n",
    "result = insert_substring(main_string, sub_string, position)\n",
    "print(\"Result:\", result)"
   ]
  },
  {
   "cell_type": "code",
   "execution_count": null,
   "id": "385ffc2e-cda5-43cb-a9e5-eea5987c613c",
   "metadata": {},
   "outputs": [],
   "source": [
    "s"
   ]
  }
 ],
 "metadata": {
  "kernelspec": {
   "display_name": "Python 3 (ipykernel)",
   "language": "python",
   "name": "python3"
  },
  "language_info": {
   "codemirror_mode": {
    "name": "ipython",
    "version": 3
   },
   "file_extension": ".py",
   "mimetype": "text/x-python",
   "name": "python",
   "nbconvert_exporter": "python",
   "pygments_lexer": "ipython3",
   "version": "3.12.4"
  }
 },
 "nbformat": 4,
 "nbformat_minor": 5
}
